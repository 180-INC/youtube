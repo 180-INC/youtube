{
 "cells": [
  {
   "cell_type": "code",
   "execution_count": 1,
   "metadata": {},
   "outputs": [],
   "source": [
    "from tkinter import *\n",
    "from pytube import YouTube"
   ]
  },
  {
   "cell_type": "code",
   "execution_count": 2,
   "metadata": {},
   "outputs": [],
   "source": [
    "# Create display window\n",
    "root = Tk()\n",
    "root.geometry('500x300')\n",
    "root.resizable(0,0)\n",
    "root.title(\"Youtube video downloader\")\n",
    "\n",
    "Label(root,text = 'Youtube Video Downloader', font ='arial 20 bold').pack()"
   ]
  },
  {
   "cell_type": "code",
   "execution_count": 3,
   "metadata": {},
   "outputs": [],
   "source": [
    "##enter link\n",
    "link = StringVar()\n",
    "\n",
    "Label(root, text = 'Paste Link Here:', font = 'arial 15 bold').place(x= 160 , y = 60)\n",
    "link_enter = Entry(root, width = 70,textvariable = link).place(x = 32, y = 90)"
   ]
  },
  {
   "cell_type": "code",
   "execution_count": 4,
   "metadata": {},
   "outputs": [],
   "source": [
    "#function to download video\n",
    "\n",
    "\n",
    "def Downloader():\n",
    "     \n",
    "    url =YouTube(str(link.get()))\n",
    "    video = url.streams.first()\n",
    "    video.download()\n",
    "    Label(root, text = 'DOWNLOADED', font = 'arial 15').place(x= 180 , y = 210)  \n",
    "\n",
    "\n",
    "Button(root,text = 'DOWNLOAD', font = 'arial 15 bold' ,bg = 'pale violet red', padx = 2, command = Downloader).place(x=180 ,y = 150)\n",
    "\n",
    "\n",
    "\n",
    "root.mainloop()"
   ]
  }
 ],
 "metadata": {
  "kernelspec": {
   "display_name": "Python 3",
   "language": "python",
   "name": "python3"
  },
  "language_info": {
   "codemirror_mode": {
    "name": "ipython",
    "version": 3
   },
   "file_extension": ".py",
   "mimetype": "text/x-python",
   "name": "python",
   "nbconvert_exporter": "python",
   "pygments_lexer": "ipython3",
   "version": "3.8.5"
  }
 },
 "nbformat": 4,
 "nbformat_minor": 4
}
